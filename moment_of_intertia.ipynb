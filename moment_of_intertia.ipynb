{
 "cells": [
  {
   "cell_type": "markdown",
   "metadata": {},
   "source": [
    "# SAMWISE Moment Of Inertia Estimation"
   ]
  },
  {
   "cell_type": "code",
   "execution_count": 2,
   "metadata": {},
   "outputs": [],
   "source": [
    "import numpy as np"
   ]
  },
  {
   "cell_type": "code",
   "execution_count": 68,
   "metadata": {},
   "outputs": [],
   "source": [
    "class RectangularPrism:\n",
    "    def __init__(self, \n",
    "                 com: np.array,\n",
    "                 size: np.array,\n",
    "                 mass: float,\n",
    "                 R=np.eye(3)) -> None:\n",
    "        self.com = com   # com in CAD frame [m]\n",
    "        self.R = R       # rotation matrix mapping local frame to CAD frame (columns are local axes in CAD frame)\n",
    "        self.size = size # (x, y, z) size in local frame [m]\n",
    "        self.mass = mass # mass [kg]\n",
    "        \n",
    "        assert np.abs(np.linalg.det(R) - 1) < 1e-10 # Rotation matrix should have determinant 1\n",
    "\n",
    "    @property\n",
    "    def I_com(self) -> np.array:\n",
    "        # Moment of inertia about center of mass in local frame [kg m^2]\n",
    "        # https://dynref.engr.illinois.edu/rem.html\n",
    "        dx = self.size[0]\n",
    "        dy = self.size[1]\n",
    "        dz = self.size[2]\n",
    "\n",
    "        Ixx = self.mass * (dy**2 + dz**2) / 12\n",
    "        Iyy = self.mass * (dx**2 + dz**2) / 12\n",
    "        Izz = self.mass * (dx**2 + dy**2) / 12\n",
    "\n",
    "        return np.array([\n",
    "            [Ixx, 0, 0],\n",
    "            [0, Iyy, 0],\n",
    "            [0, 0, Izz]\n",
    "        ])\n",
    "    \n",
    "    @property\n",
    "    def I_com_cad_frame(self) -> np.array:\n",
    "        # Moment of inertia about the center of mass, in the cad frame [kg m^2]\n",
    "        # TODO Be 100% sure this works\n",
    "        return self.R @ self.I_com @ self.R.T\n",
    "\n",
    "    def I_about_point(self, center: np.array) -> np.array:\n",
    "        # Return the moment of inertia in the cad frame about a given pivot [kg m^2]\n",
    "        x, y, z = self.com - center\n",
    "        I_displacement = self.mass * np.array([\n",
    "            [y**2 + z**2, -x * y, -x * z],\n",
    "            [-x * y, x**2 + z**2, y * z],\n",
    "            [-x * z, -y * z, x**2 + y**2],\n",
    "        ])\n",
    "        return self.I_com_cad_frame + I_displacement"
   ]
  },
  {
   "cell_type": "code",
   "execution_count": 69,
   "metadata": {},
   "outputs": [],
   "source": [
    "def print_inertial_properties(bodies: list[RectangularPrism]):\n",
    "    print(\"\\n\\n----------INERTIAL PROPERTIES------------\")\n",
    "    m_overall = sum([body.mass for body in bodies])\n",
    "    com_overall = sum([body.com * body.mass for body in bodies]) / m_overall\n",
    "    print(f\"Total mass: {m_overall} [kg]\")\n",
    "    print(f\"Com in cad frame: {com_overall} [m]\")\n",
    "\n",
    "    I_overall = sum([body.I_about_point(com_overall) for body in bodies])\n",
    "\n",
    "    print('')\n",
    "    print(\"Moment of intertia about center of mass [kg m^2]\")\n",
    "    print(I_overall)"
   ]
  },
  {
   "cell_type": "code",
   "execution_count": 78,
   "metadata": {},
   "outputs": [
    {
     "name": "stdout",
     "output_type": "stream",
     "text": [
      "\n",
      "\n",
      "----------INERTIAL PROPERTIES------------\n",
      "Total mass: 1 [kg]\n",
      "Com in cad frame: [0. 0. 0.] [m]\n",
      "\n",
      "Moment of intertia about center of mass [kg m^2]\n",
      "[[ 0.5         0.         -0.33333333]\n",
      " [ 0.          0.83333333  0.        ]\n",
      " [-0.33333333  0.          0.5       ]]\n"
     ]
    }
   ],
   "source": [
    "x = np.sqrt(2) / 2\n",
    "\n",
    "bodies: list[RectangularPrism] = [\n",
    "    # TODO\n",
    "    # To populate on thursday...\n",
    "    RectangularPrism(\n",
    "        com=np.array([0, 0, 0]),\n",
    "        size=np.array([1, 1, 3]),\n",
    "        mass=1,\n",
    "        R = np.array([\n",
    "            [x, 0, x],\n",
    "            [0, 1, 0],\n",
    "            [-x, 0, x]\n",
    "        ])\n",
    "    ),\n",
    "]\n",
    "\n",
    "print_inertial_properties(bodies)\n"
   ]
  }
 ],
 "metadata": {
  "kernelspec": {
   "display_name": "Python 3",
   "language": "python",
   "name": "python3"
  },
  "language_info": {
   "codemirror_mode": {
    "name": "ipython",
    "version": 3
   },
   "file_extension": ".py",
   "mimetype": "text/x-python",
   "name": "python",
   "nbconvert_exporter": "python",
   "pygments_lexer": "ipython3",
   "version": "3.12.5"
  }
 },
 "nbformat": 4,
 "nbformat_minor": 2
}
