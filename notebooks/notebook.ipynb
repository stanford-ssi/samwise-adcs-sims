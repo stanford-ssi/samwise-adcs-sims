{
 "cells": [
  {
   "cell_type": "code",
   "execution_count": null,
   "metadata": {
    "vscode": {
     "languageId": "plaintext"
    }
   },
   "outputs": [],
   "source": [
    "solar_flux = 1.3608e3 # W/m\n",
    "flux2lux_LEO = 98 # lux, 1 W/m² = 98 lux\n",
    "solar_lux = solar_flux * flux2lux_LEO = 133358.4\n",
    "Id_per_lux_typical = 6.3  * 1e-9 # A/lx typical\n",
    "Id_per_lux_min = 5 * 1e-9 # A/lx min\n",
    "\n",
    "max_curr_typical = Id_per_lux_typical * solar_lux\n",
    "3.3V / max_curr_typical = 3927.8329959681864"
   ]
  },
  {
   "cell_type": "code",
   "execution_count": null,
   "metadata": {
    "vscode": {
     "languageId": "plaintext"
    }
   },
   "outputs": [],
   "source": [
    "ID_per_lux = 5e-9\n",
    "lux_solar = 133358.4\n",
    "R_pd = 3900"
   ]
  }
 ],
 "metadata": {
  "language_info": {
   "name": "python"
  }
 },
 "nbformat": 4,
 "nbformat_minor": 2
}
