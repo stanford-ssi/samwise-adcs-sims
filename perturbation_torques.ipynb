{
 "cells": [
  {
   "cell_type": "markdown",
   "metadata": {},
   "source": [
    "##Perturbation Torque Calculator (worst case)"
   ]
  },
  {
   "cell_type": "code",
   "execution_count": 12,
   "metadata": {},
   "outputs": [],
   "source": [
    "import numpy as np"
   ]
  },
  {
   "cell_type": "code",
   "execution_count": 13,
   "metadata": {},
   "outputs": [],
   "source": [
    "# CONSTANTS\n",
    "RADIUS_OF_EARTH = 6378e3      # m\n",
    "MU_EARTH = 3.986e14     # m^3 s^-2\n",
    "r = RADIUS_OF_EARTH + 450e3  # m\n",
    "\n",
    "# DRAG\n",
    "Cd = 2.0                # dimensionless   https://en.wikipedia.org/wiki/Drag_coefficient\n",
    "rho = 1.4e-12           # kg/m^3    http://www.braeunig.us/space/atmos.htm\n",
    "A = 0.1083              # m^2 (flat plate: (20+10sqrt2+20)cm by 20cm)\n",
    "cm = np.array([((.10)*np.sqrt(2))/4, ((.10)*np.sqrt(2))/4, .20/4])      # m\n",
    "cg = np.sqrt(cm[0]**2 + cm[2]**2)       # m\n",
    "cp = 0                  # m\n",
    "\n",
    "# GRAVITY GRADIENT\n",
    "I_max = 41.2768466e-9      # kg m^2\n",
    "I_min = 14.61922201e-9     # kg m^2\n"
   ]
  },
  {
   "cell_type": "code",
   "execution_count": 14,
   "metadata": {},
   "outputs": [
    {
     "name": "stdout",
     "output_type": "stream",
     "text": [
      "5.0069062967709373e-14\n"
     ]
    }
   ],
   "source": [
    "t_gg = (3 * MU_EARTH)/(2*(r**3)) * np.abs(I_max - I_min)\n",
    "print(t_gg)"
   ]
  },
  {
   "cell_type": "code",
   "execution_count": 16,
   "metadata": {},
   "outputs": [
    {
     "name": "stdout",
     "output_type": "stream",
     "text": [
      "-5.802630355581416e-07\n"
     ]
    }
   ],
   "source": [
    "V = np.sqrt(MU_EARTH / RADIUS_OF_EARTH)\n",
    "F = 0.5*(rho*Cd*A*V**2)\n",
    "T = F*(cp-cg)\n",
    "print(T)"
   ]
  }
 ],
 "metadata": {
  "kernelspec": {
   "display_name": ".venv",
   "language": "python",
   "name": "python3"
  },
  "language_info": {
   "codemirror_mode": {
    "name": "ipython",
    "version": 3
   },
   "file_extension": ".py",
   "mimetype": "text/x-python",
   "name": "python",
   "nbconvert_exporter": "python",
   "pygments_lexer": "ipython3",
   "version": "3.13.0"
  }
 },
 "nbformat": 4,
 "nbformat_minor": 2
}
