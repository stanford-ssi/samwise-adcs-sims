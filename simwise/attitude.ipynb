{
 "cells": [
  {
   "cell_type": "code",
   "execution_count": null,
   "metadata": {},
   "outputs": [],
   "source": [
    "# define TRIAD algorithm function\n",
    "import numpy as np\n",
    "\n",
    "def get_attitude_matrix(R_1: np.ndarray, R_2: np.ndarray, r_1: np.ndarray, r_2: np.ndarray) -> np.ndarray:\n",
    "    \n",
    "    R_1_norm = R_1 / np.linalg.norm(R_1)\n",
    "    R_2_norm = R_2 / np.linalg.norm(R_2)\n",
    "    r_1_norm = r_1 / np.linalg.norm(r_1)\n",
    "    r_2_norm = r_2 / np.linalg.norm(r_2)\n",
    "\n",
    "    # Concatenate the vectors in 2 matrices\n",
    "    R = np.array([R_1_norm, R_2_norm, np.cross(R_1_norm, R_2_norm)])\n",
    "    r = np.array([r_1_norm, r_2_norm, np.cross(r_1_norm, r_2_norm)])\n",
    "\n",
    "    # calculate the rotation matrix\n",
    "    A = np.dot(r, np.linalg.inv(R))\n",
    "\n",
    "\n",
    "    pass"
   ]
  }
 ],
 "metadata": {
  "kernelspec": {
   "display_name": "base",
   "language": "python",
   "name": "python3"
  },
  "language_info": {
   "name": "python",
   "version": "3.12.4"
  }
 },
 "nbformat": 4,
 "nbformat_minor": 2
}
